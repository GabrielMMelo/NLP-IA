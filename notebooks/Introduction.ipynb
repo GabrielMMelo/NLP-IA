{
 "cells": [
  {
   "cell_type": "markdown",
   "metadata": {},
   "source": [
    "# task definition\n",
    "Train a model to classify a movie rewiew in positive or negative polarity."
   ]
  },
  {
   "cell_type": "markdown",
   "metadata": {},
   "source": [
    "# data collection\n",
    "dataset of IMDb, available at: http://ai.stanford.edu/~amaas/data/sentiment/aclImdb_v1.tar.gz\n",
    "\n",
    "it uses 'wget' python module. Use ```pip install wget``` to install it!\n"
   ]
  },
  {
   "cell_type": "code",
   "execution_count": 1,
   "metadata": {},
   "outputs": [],
   "source": [
    "import wget\n",
    "import os\n",
    "import tarfile\n",
    "\n",
    "filename = \"dataset/aclImdb_v1.tar.gz\"\n",
    "\n",
    "dataset_link = \"http://ai.stanford.edu/~amaas/data/sentiment/{}\".format(filename)\n",
    "try:\n",
    "    os.mkdir(\"dataset\")\n",
    "except FileExistsError:\n",
    "    pass\n",
    "\n",
    "if not os.path.isfile(filename):\n",
    "    file = wget.download(dataset_link, out='dataset/aclImdb_v1.tar.gz')\n",
    "\n",
    "    tar = tarfile.open(filename, \"r:gz\")\n",
    "    tar.extractall(\"dataset\")\n",
    "    tar.close()"
   ]
  },
  {
   "cell_type": "markdown",
   "metadata": {},
   "source": [
    "# data load and visualization"
   ]
  },
  {
   "cell_type": "code",
   "execution_count": 2,
   "metadata": {},
   "outputs": [],
   "source": [
    "# montar dataset com valores de 1 a 4 e de 7 a 10, ao invés de binário\n",
    "dataset_path = 'dataset/aclImdb'\n",
    "train_positive_files = ['train/pos/'+f for f in os.listdir(dataset_path+'/train/pos') \\\n",
    "                        if os.path.isfile(os.path.join(dataset_path+'/train/pos', f))]\n",
    "\n",
    "train_negative_files = ['train/neg/'+f for f in os.listdir(dataset_path+'/train/neg') \\\n",
    "                        if os.path.isfile(os.path.join(dataset_path+'/train/neg', f))]\n",
    "\n",
    "test_positive_files = ['test/pos/'+f for f in os.listdir(dataset_path+'/test/pos') \\\n",
    "                       if os.path.isfile(os.path.join(dataset_path+'/test/pos', f))]\n",
    "\n",
    "test_negative_files = ['test/neg/'+f for f in os.listdir(dataset_path+'/test/neg') \\\n",
    "                       if os.path.isfile(os.path.join(dataset_path+'/test/neg', f))]\n",
    "\n",
    "all_files = list(set().union(train_positive_files,train_negative_files, test_positive_files, test_negative_files))"
   ]
  },
  {
   "cell_type": "code",
   "execution_count": 3,
   "metadata": {},
   "outputs": [],
   "source": [
    "dataset = {'trainset':[], \n",
    "           'polarity':[], \n",
    "           'review':[]}\n",
    "\n",
    "for file in all_files:\n",
    "    polarity = file.split('.')[0].split('_')[1]\n",
    "    with open(os.path.join(dataset_path, file), 'r') as text_file:\n",
    "        dataset['trainset'].append(file.split('/')[0])\n",
    "        dataset['polarity'].append(polarity)\n",
    "        dataset['review'].append(text_file.readlines()[0])"
   ]
  },
  {
   "cell_type": "code",
   "execution_count": 4,
   "metadata": {},
   "outputs": [],
   "source": [
    "import pandas as pd\n",
    "dataframe = pd.DataFrame(data=dataset)"
   ]
  },
  {
   "cell_type": "code",
   "execution_count": 5,
   "metadata": {},
   "outputs": [
    {
     "data": {
      "text/plain": [
       "Index(['trainset', 'polarity', 'review'], dtype='object')"
      ]
     },
     "execution_count": 5,
     "metadata": {},
     "output_type": "execute_result"
    }
   ],
   "source": [
    "dataframe.columns"
   ]
  },
  {
   "cell_type": "code",
   "execution_count": 6,
   "metadata": {},
   "outputs": [
    {
     "data": {
      "text/html": [
       "<div>\n",
       "<style scoped>\n",
       "    .dataframe tbody tr th:only-of-type {\n",
       "        vertical-align: middle;\n",
       "    }\n",
       "\n",
       "    .dataframe tbody tr th {\n",
       "        vertical-align: top;\n",
       "    }\n",
       "\n",
       "    .dataframe thead th {\n",
       "        text-align: right;\n",
       "    }\n",
       "</style>\n",
       "<table border=\"1\" class=\"dataframe\">\n",
       "  <thead>\n",
       "    <tr style=\"text-align: right;\">\n",
       "      <th></th>\n",
       "      <th>trainset</th>\n",
       "      <th>polarity</th>\n",
       "      <th>review</th>\n",
       "    </tr>\n",
       "  </thead>\n",
       "  <tbody>\n",
       "    <tr>\n",
       "      <th>0</th>\n",
       "      <td>test</td>\n",
       "      <td>3</td>\n",
       "      <td>It's hard to tell who this film is aimed at; t...</td>\n",
       "    </tr>\n",
       "    <tr>\n",
       "      <th>1</th>\n",
       "      <td>test</td>\n",
       "      <td>10</td>\n",
       "      <td>I own a Video store with hundreds of documenta...</td>\n",
       "    </tr>\n",
       "    <tr>\n",
       "      <th>2</th>\n",
       "      <td>test</td>\n",
       "      <td>10</td>\n",
       "      <td>...that maybe someday people will wake up to. ...</td>\n",
       "    </tr>\n",
       "    <tr>\n",
       "      <th>3</th>\n",
       "      <td>train</td>\n",
       "      <td>8</td>\n",
       "      <td>This is your typical cheerful and colorful MGM...</td>\n",
       "    </tr>\n",
       "    <tr>\n",
       "      <th>4</th>\n",
       "      <td>train</td>\n",
       "      <td>9</td>\n",
       "      <td>Scott Henderson (Alan Curtis) is unjustly accu...</td>\n",
       "    </tr>\n",
       "    <tr>\n",
       "      <th>5</th>\n",
       "      <td>test</td>\n",
       "      <td>1</td>\n",
       "      <td>Exceptionally silly actioner with braindead le...</td>\n",
       "    </tr>\n",
       "    <tr>\n",
       "      <th>6</th>\n",
       "      <td>test</td>\n",
       "      <td>8</td>\n",
       "      <td>This movie will undoubtably not go over well w...</td>\n",
       "    </tr>\n",
       "    <tr>\n",
       "      <th>7</th>\n",
       "      <td>train</td>\n",
       "      <td>10</td>\n",
       "      <td>Twisted Desire (1996) was a TV movie starring ...</td>\n",
       "    </tr>\n",
       "    <tr>\n",
       "      <th>8</th>\n",
       "      <td>train</td>\n",
       "      <td>8</td>\n",
       "      <td>This film makes a strong comment about the Ita...</td>\n",
       "    </tr>\n",
       "    <tr>\n",
       "      <th>9</th>\n",
       "      <td>train</td>\n",
       "      <td>3</td>\n",
       "      <td>From the critical acclaim, I expected more fro...</td>\n",
       "    </tr>\n",
       "    <tr>\n",
       "      <th>10</th>\n",
       "      <td>train</td>\n",
       "      <td>8</td>\n",
       "      <td>Screwball comedy about romantic mismatches in ...</td>\n",
       "    </tr>\n",
       "    <tr>\n",
       "      <th>11</th>\n",
       "      <td>test</td>\n",
       "      <td>9</td>\n",
       "      <td>This is one of the best sequels around and a v...</td>\n",
       "    </tr>\n",
       "    <tr>\n",
       "      <th>12</th>\n",
       "      <td>train</td>\n",
       "      <td>1</td>\n",
       "      <td>I finally caught up to \"Starlight\" last night ...</td>\n",
       "    </tr>\n",
       "    <tr>\n",
       "      <th>13</th>\n",
       "      <td>train</td>\n",
       "      <td>1</td>\n",
       "      <td>I have been familiar with the fantastic book o...</td>\n",
       "    </tr>\n",
       "    <tr>\n",
       "      <th>14</th>\n",
       "      <td>train</td>\n",
       "      <td>3</td>\n",
       "      <td>The film did what it set out to do: show how a...</td>\n",
       "    </tr>\n",
       "    <tr>\n",
       "      <th>15</th>\n",
       "      <td>train</td>\n",
       "      <td>10</td>\n",
       "      <td>The Straight Story is a multilevel exploration...</td>\n",
       "    </tr>\n",
       "    <tr>\n",
       "      <th>16</th>\n",
       "      <td>test</td>\n",
       "      <td>1</td>\n",
       "      <td>This move is terrible. They took Gods word and...</td>\n",
       "    </tr>\n",
       "    <tr>\n",
       "      <th>17</th>\n",
       "      <td>train</td>\n",
       "      <td>4</td>\n",
       "      <td>I would perhaps give 6 or 7 to this propaganda...</td>\n",
       "    </tr>\n",
       "    <tr>\n",
       "      <th>18</th>\n",
       "      <td>test</td>\n",
       "      <td>9</td>\n",
       "      <td>The acting is good, the action is good, and so...</td>\n",
       "    </tr>\n",
       "    <tr>\n",
       "      <th>19</th>\n",
       "      <td>train</td>\n",
       "      <td>7</td>\n",
       "      <td>Although The Notorious Bettie Page is well act...</td>\n",
       "    </tr>\n",
       "    <tr>\n",
       "      <th>20</th>\n",
       "      <td>train</td>\n",
       "      <td>4</td>\n",
       "      <td>OK this movie was made for one reason and one ...</td>\n",
       "    </tr>\n",
       "    <tr>\n",
       "      <th>21</th>\n",
       "      <td>train</td>\n",
       "      <td>9</td>\n",
       "      <td>Once again Jet Li brings his charismatic prese...</td>\n",
       "    </tr>\n",
       "    <tr>\n",
       "      <th>22</th>\n",
       "      <td>test</td>\n",
       "      <td>10</td>\n",
       "      <td>Hallelujah!!!! ",
       "Finally, a true Colombian film...</td>\n",
       "    </tr>\n",
       "    <tr>\n",
       "      <th>23</th>\n",
       "      <td>test</td>\n",
       "      <td>2</td>\n",
       "      <td>Rigoletto is Verdi's masterpiece, full of dram...</td>\n",
       "    </tr>\n",
       "    <tr>\n",
       "      <th>24</th>\n",
       "      <td>test</td>\n",
       "      <td>4</td>\n",
       "      <td>Someone else called this film a \"fable-horror\"...</td>\n",
       "    </tr>\n",
       "    <tr>\n",
       "      <th>25</th>\n",
       "      <td>test</td>\n",
       "      <td>10</td>\n",
       "      <td>This is a great film in many different ways......</td>\n",
       "    </tr>\n",
       "    <tr>\n",
       "      <th>26</th>\n",
       "      <td>test</td>\n",
       "      <td>1</td>\n",
       "      <td>First of all I dunno if I was supposed to use ...</td>\n",
       "    </tr>\n",
       "    <tr>\n",
       "      <th>27</th>\n",
       "      <td>test</td>\n",
       "      <td>7</td>\n",
       "      <td>This is one of Stan Laurel's best solo comedy'...</td>\n",
       "    </tr>\n",
       "    <tr>\n",
       "      <th>28</th>\n",
       "      <td>test</td>\n",
       "      <td>1</td>\n",
       "      <td>The riddle as a concept is an interesting idea...</td>\n",
       "    </tr>\n",
       "    <tr>\n",
       "      <th>29</th>\n",
       "      <td>test</td>\n",
       "      <td>2</td>\n",
       "      <td>To put in simple words or rather a word, would...</td>\n",
       "    </tr>\n",
       "    <tr>\n",
       "      <th>...</th>\n",
       "      <td>...</td>\n",
       "      <td>...</td>\n",
       "      <td>...</td>\n",
       "    </tr>\n",
       "    <tr>\n",
       "      <th>49970</th>\n",
       "      <td>test</td>\n",
       "      <td>8</td>\n",
       "      <td>This movie was an amazing tribute to whoever h...</td>\n",
       "    </tr>\n",
       "    <tr>\n",
       "      <th>49971</th>\n",
       "      <td>test</td>\n",
       "      <td>7</td>\n",
       "      <td>So I guess that Bud and Lou just liked to mess...</td>\n",
       "    </tr>\n",
       "    <tr>\n",
       "      <th>49972</th>\n",
       "      <td>train</td>\n",
       "      <td>10</td>\n",
       "      <td>This movie is a great way for the series to fi...</td>\n",
       "    </tr>\n",
       "    <tr>\n",
       "      <th>49973</th>\n",
       "      <td>train</td>\n",
       "      <td>10</td>\n",
       "      <td>Now this is what I'm talking about. Finally, a...</td>\n",
       "    </tr>\n",
       "    <tr>\n",
       "      <th>49974</th>\n",
       "      <td>test</td>\n",
       "      <td>1</td>\n",
       "      <td>This movie is a complete and utter waste of ti...</td>\n",
       "    </tr>\n",
       "    <tr>\n",
       "      <th>49975</th>\n",
       "      <td>test</td>\n",
       "      <td>10</td>\n",
       "      <td>CAUTION: Potential Spoilers Ahead!&lt;br /&gt;&lt;br /&gt;...</td>\n",
       "    </tr>\n",
       "    <tr>\n",
       "      <th>49976</th>\n",
       "      <td>test</td>\n",
       "      <td>10</td>\n",
       "      <td>I was wandering through my local library, brow...</td>\n",
       "    </tr>\n",
       "    <tr>\n",
       "      <th>49977</th>\n",
       "      <td>test</td>\n",
       "      <td>4</td>\n",
       "      <td>I have been a huge fan of the original crew of...</td>\n",
       "    </tr>\n",
       "    <tr>\n",
       "      <th>49978</th>\n",
       "      <td>train</td>\n",
       "      <td>1</td>\n",
       "      <td>After what I thought was a masterful performan...</td>\n",
       "    </tr>\n",
       "    <tr>\n",
       "      <th>49979</th>\n",
       "      <td>train</td>\n",
       "      <td>4</td>\n",
       "      <td>This movie starts out with a certain amount of...</td>\n",
       "    </tr>\n",
       "    <tr>\n",
       "      <th>49980</th>\n",
       "      <td>train</td>\n",
       "      <td>3</td>\n",
       "      <td>This was not the worst movie I've ever seen, b...</td>\n",
       "    </tr>\n",
       "    <tr>\n",
       "      <th>49981</th>\n",
       "      <td>train</td>\n",
       "      <td>1</td>\n",
       "      <td>I had to stop watching this film (a pseudo-int...</td>\n",
       "    </tr>\n",
       "    <tr>\n",
       "      <th>49982</th>\n",
       "      <td>train</td>\n",
       "      <td>8</td>\n",
       "      <td>I have very fond memories of this film, as I s...</td>\n",
       "    </tr>\n",
       "    <tr>\n",
       "      <th>49983</th>\n",
       "      <td>train</td>\n",
       "      <td>4</td>\n",
       "      <td>This low-grade Universal chiller has just been...</td>\n",
       "    </tr>\n",
       "    <tr>\n",
       "      <th>49984</th>\n",
       "      <td>train</td>\n",
       "      <td>2</td>\n",
       "      <td>In order to hold the public's attention for th...</td>\n",
       "    </tr>\n",
       "    <tr>\n",
       "      <th>49985</th>\n",
       "      <td>train</td>\n",
       "      <td>7</td>\n",
       "      <td>Young beautiful Eva (Hedy Lamarr) marries an o...</td>\n",
       "    </tr>\n",
       "    <tr>\n",
       "      <th>49986</th>\n",
       "      <td>test</td>\n",
       "      <td>8</td>\n",
       "      <td>Despite its many faults, Hallmark's 1995 versi...</td>\n",
       "    </tr>\n",
       "    <tr>\n",
       "      <th>49987</th>\n",
       "      <td>test</td>\n",
       "      <td>10</td>\n",
       "      <td>This is one of those films where it is easy to...</td>\n",
       "    </tr>\n",
       "    <tr>\n",
       "      <th>49988</th>\n",
       "      <td>train</td>\n",
       "      <td>8</td>\n",
       "      <td>This movie was very enjoyable, though you'll o...</td>\n",
       "    </tr>\n",
       "    <tr>\n",
       "      <th>49989</th>\n",
       "      <td>train</td>\n",
       "      <td>10</td>\n",
       "      <td>Disney, the film name that once stood for all ...</td>\n",
       "    </tr>\n",
       "    <tr>\n",
       "      <th>49990</th>\n",
       "      <td>test</td>\n",
       "      <td>10</td>\n",
       "      <td>OK, so maybe it's because I'm from the North E...</td>\n",
       "    </tr>\n",
       "    <tr>\n",
       "      <th>49991</th>\n",
       "      <td>test</td>\n",
       "      <td>7</td>\n",
       "      <td>I saw this movie for the first time when Quent...</td>\n",
       "    </tr>\n",
       "    <tr>\n",
       "      <th>49992</th>\n",
       "      <td>test</td>\n",
       "      <td>4</td>\n",
       "      <td>Frantic, somewhat mean spirited, infantile hum...</td>\n",
       "    </tr>\n",
       "    <tr>\n",
       "      <th>49993</th>\n",
       "      <td>train</td>\n",
       "      <td>2</td>\n",
       "      <td>This ludicrous film offers the standard 1970's...</td>\n",
       "    </tr>\n",
       "    <tr>\n",
       "      <th>49994</th>\n",
       "      <td>test</td>\n",
       "      <td>1</td>\n",
       "      <td>This is the worst movie I've ever seen, and it...</td>\n",
       "    </tr>\n",
       "    <tr>\n",
       "      <th>49995</th>\n",
       "      <td>test</td>\n",
       "      <td>4</td>\n",
       "      <td>I'm very interested in the overwhelmingly posi...</td>\n",
       "    </tr>\n",
       "    <tr>\n",
       "      <th>49996</th>\n",
       "      <td>train</td>\n",
       "      <td>9</td>\n",
       "      <td>I really enjoyed this movie. It took a pretty ...</td>\n",
       "    </tr>\n",
       "    <tr>\n",
       "      <th>49997</th>\n",
       "      <td>train</td>\n",
       "      <td>7</td>\n",
       "      <td>This is a better than average silent movie and...</td>\n",
       "    </tr>\n",
       "    <tr>\n",
       "      <th>49998</th>\n",
       "      <td>test</td>\n",
       "      <td>4</td>\n",
       "      <td>Years ago \"MA2412\" the feature film tried to b...</td>\n",
       "    </tr>\n",
       "    <tr>\n",
       "      <th>49999</th>\n",
       "      <td>train</td>\n",
       "      <td>1</td>\n",
       "      <td>If you are one of the people who finds \"Accord...</td>\n",
       "    </tr>\n",
       "  </tbody>\n",
       "</table>\n",
       "<p>50000 rows × 3 columns</p>\n",
       "</div>"
      ],
      "text/plain": [
       "      trainset polarity                                             review\n",
       "0         test        3  It's hard to tell who this film is aimed at; t...\n",
       "1         test       10  I own a Video store with hundreds of documenta...\n",
       "2         test       10  ...that maybe someday people will wake up to. ...\n",
       "3        train        8  This is your typical cheerful and colorful MGM...\n",
       "4        train        9  Scott Henderson (Alan Curtis) is unjustly accu...\n",
       "5         test        1  Exceptionally silly actioner with braindead le...\n",
       "6         test        8  This movie will undoubtably not go over well w...\n",
       "7        train       10  Twisted Desire (1996) was a TV movie starring ...\n",
       "8        train        8  This film makes a strong comment about the Ita...\n",
       "9        train        3  From the critical acclaim, I expected more fro...\n",
       "10       train        8  Screwball comedy about romantic mismatches in ...\n",
       "11        test        9  This is one of the best sequels around and a v...\n",
       "12       train        1  I finally caught up to \"Starlight\" last night ...\n",
       "13       train        1  I have been familiar with the fantastic book o...\n",
       "14       train        3  The film did what it set out to do: show how a...\n",
       "15       train       10  The Straight Story is a multilevel exploration...\n",
       "16        test        1  This move is terrible. They took Gods word and...\n",
       "17       train        4  I would perhaps give 6 or 7 to this propaganda...\n",
       "18        test        9  The acting is good, the action is good, and so...\n",
       "19       train        7  Although The Notorious Bettie Page is well act...\n",
       "20       train        4  OK this movie was made for one reason and one ...\n",
       "21       train        9  Once again Jet Li brings his charismatic prese...\n",
       "22        test       10  Hallelujah!!!! \n",
       "Finally, a true Colombian film...\n",
       "23        test        2  Rigoletto is Verdi's masterpiece, full of dram...\n",
       "24        test        4  Someone else called this film a \"fable-horror\"...\n",
       "25        test       10  This is a great film in many different ways......\n",
       "26        test        1  First of all I dunno if I was supposed to use ...\n",
       "27        test        7  This is one of Stan Laurel's best solo comedy'...\n",
       "28        test        1  The riddle as a concept is an interesting idea...\n",
       "29        test        2  To put in simple words or rather a word, would...\n",
       "...        ...      ...                                                ...\n",
       "49970     test        8  This movie was an amazing tribute to whoever h...\n",
       "49971     test        7  So I guess that Bud and Lou just liked to mess...\n",
       "49972    train       10  This movie is a great way for the series to fi...\n",
       "49973    train       10  Now this is what I'm talking about. Finally, a...\n",
       "49974     test        1  This movie is a complete and utter waste of ti...\n",
       "49975     test       10  CAUTION: Potential Spoilers Ahead!<br /><br />...\n",
       "49976     test       10  I was wandering through my local library, brow...\n",
       "49977     test        4  I have been a huge fan of the original crew of...\n",
       "49978    train        1  After what I thought was a masterful performan...\n",
       "49979    train        4  This movie starts out with a certain amount of...\n",
       "49980    train        3  This was not the worst movie I've ever seen, b...\n",
       "49981    train        1  I had to stop watching this film (a pseudo-int...\n",
       "49982    train        8  I have very fond memories of this film, as I s...\n",
       "49983    train        4  This low-grade Universal chiller has just been...\n",
       "49984    train        2  In order to hold the public's attention for th...\n",
       "49985    train        7  Young beautiful Eva (Hedy Lamarr) marries an o...\n",
       "49986     test        8  Despite its many faults, Hallmark's 1995 versi...\n",
       "49987     test       10  This is one of those films where it is easy to...\n",
       "49988    train        8  This movie was very enjoyable, though you'll o...\n",
       "49989    train       10  Disney, the film name that once stood for all ...\n",
       "49990     test       10  OK, so maybe it's because I'm from the North E...\n",
       "49991     test        7  I saw this movie for the first time when Quent...\n",
       "49992     test        4  Frantic, somewhat mean spirited, infantile hum...\n",
       "49993    train        2  This ludicrous film offers the standard 1970's...\n",
       "49994     test        1  This is the worst movie I've ever seen, and it...\n",
       "49995     test        4  I'm very interested in the overwhelmingly posi...\n",
       "49996    train        9  I really enjoyed this movie. It took a pretty ...\n",
       "49997    train        7  This is a better than average silent movie and...\n",
       "49998     test        4  Years ago \"MA2412\" the feature film tried to b...\n",
       "49999    train        1  If you are one of the people who finds \"Accord...\n",
       "\n",
       "[50000 rows x 3 columns]"
      ]
     },
     "execution_count": 6,
     "metadata": {},
     "output_type": "execute_result"
    }
   ],
   "source": [
    "dataframe"
   ]
  },
  {
   "cell_type": "code",
   "execution_count": 8,
   "metadata": {},
   "outputs": [
    {
     "data": {
      "image/png": "[encoded data removed]",
      "text/plain": [
       "<Figure size 432x288 with 1 Axes>"
      ]
     },
     "metadata": {
      "needs_background": "light"
     },
     "output_type": "display_data"
    },
    {
     "data": {
      "image/png": "[encoded data removed]",
      "text/plain": [
       "<Figure size 432x288 with 1 Axes>"
      ]
     },
     "metadata": {
      "needs_background": "light"
     },
     "output_type": "display_data"
    }
   ],
   "source": [
    "import matplotlib.pyplot as plt\n",
    "\n",
    "dataframe['trainset'].value_counts().plot(kind='bar',title='Trainsets')\n",
    "plt.show()\n",
    "\n",
    "dataframe['polarity'].value_counts().plot(kind='bar',title='Polarities')\n",
    "plt.show()"
   ]
  },
  {
   "cell_type": "code",
   "execution_count": 9,
   "metadata": {},
   "outputs": [
    {
     "data": {
      "text/plain": [
       "count    50000.000000\n",
       "mean      1309.431020\n",
       "std        989.728014\n",
       "min         32.000000\n",
       "25%        699.000000\n",
       "50%        970.000000\n",
       "75%       1590.250000\n",
       "max      13704.000000\n",
       "Name: review_size, dtype: float64"
      ]
     },
     "execution_count": 9,
     "metadata": {},
     "output_type": "execute_result"
    }
   ],
   "source": [
    "dataframe['review_size'] = dataframe['review'].apply(len)\n",
    "dataframe['review_size'].describe()"
   ]
  },
  {
   "cell_type": "code",
   "execution_count": 10,
   "metadata": {},
   "outputs": [
    {
     "data": {
      "text/html": [
       "<div>\n",
       "<style scoped>\n",
       "    .dataframe tbody tr th:only-of-type {\n",
       "        vertical-align: middle;\n",
       "    }\n",
       "\n",
       "    .dataframe tbody tr th {\n",
       "        vertical-align: top;\n",
       "    }\n",
       "\n",
       "    .dataframe thead th {\n",
       "        text-align: right;\n",
       "    }\n",
       "</style>\n",
       "<table border=\"1\" class=\"dataframe\">\n",
       "  <thead>\n",
       "    <tr style=\"text-align: right;\">\n",
       "      <th></th>\n",
       "      <th>trainset</th>\n",
       "      <th>polarity</th>\n",
       "      <th>review</th>\n",
       "      <th>review_size</th>\n",
       "    </tr>\n",
       "  </thead>\n",
       "  <tbody>\n",
       "    <tr>\n",
       "      <th>36517</th>\n",
       "      <td>test</td>\n",
       "      <td>2</td>\n",
       "      <td>Read the book, forget the movie!</td>\n",
       "      <td>32</td>\n",
       "    </tr>\n",
       "  </tbody>\n",
       "</table>\n",
       "</div>"
      ],
      "text/plain": [
       "      trainset polarity                            review  review_size\n",
       "36517     test        2  Read the book, forget the movie!           32"
      ]
     },
     "execution_count": 10,
     "metadata": {},
     "output_type": "execute_result"
    }
   ],
   "source": [
    "dataframe[dataframe['review_size']==32]"
   ]
  },
  {
   "cell_type": "markdown",
   "metadata": {},
   "source": [
    "# pre processing"
   ]
  },
  {
   "cell_type": "code",
   "execution_count": 11,
   "metadata": {},
   "outputs": [],
   "source": [
    "import re\n",
    "\n",
    "REPLACE_NO_SPACE = re.compile(\"(\\.)|(\\;)|(\\:)|(\\!)|(\\')|(\\?)|(\\,)|(\\\")|(\\()|(\\))|(\\[)|(\\])\")\n",
    "REPLACE_WITH_SPACE = re.compile(\"(<br\\s*/><br\\s*/>)|(\\-)|(\\/)\")\n",
    "\n",
    "def preprocess_reviews(review):\n",
    "    review = REPLACE_NO_SPACE.sub(\"\", review.lower())\n",
    "    review = REPLACE_WITH_SPACE.sub(\" \", review)\n",
    "    \n",
    "    return review\n",
    "\n",
    "dataframe['clean_review'] = dataframe['review'].apply(preprocess_reviews)"
   ]
  },
  {
   "cell_type": "code",
   "execution_count": null,
   "metadata": {},
   "outputs": [],
   "source": [
    "dataframe"
   ]
  },
  {
   "cell_type": "markdown",
   "metadata": {},
   "source": [
    "# training"
   ]
  },
  {
   "cell_type": "code",
   "execution_count": 12,
   "metadata": {},
   "outputs": [],
   "source": [
    "train_reviews = dataframe[dataframe['trainset'] == 'train']['clean_review'].values.tolist()\n",
    "train_classes = dataframe[dataframe['trainset'] == 'train']['polarity'].values.tolist()\n",
    "test_reviews = dataframe[dataframe['trainset'] == 'test']['clean_review'].values.tolist()\n",
    "test_classes = dataframe[dataframe['trainset'] == 'test']['polarity'].values.tolist()"
   ]
  },
  {
   "cell_type": "code",
   "execution_count": 13,
   "metadata": {},
   "outputs": [],
   "source": [
    "from sklearn.feature_extraction.text import CountVectorizer\n",
    "import pickle\n",
    "\n",
    "cv = CountVectorizer(binary=True)\n",
    "cv.fit(train_reviews)\n",
    "X = cv.transform(train_reviews)\n",
    "X_test = cv.transform(test_reviews)"
   ]
  },
  {
   "cell_type": "code",
   "execution_count": 14,
   "metadata": {},
   "outputs": [],
   "source": [
    "#save cv model\n",
    "try:\n",
    "    os.mkdir(\"models\")\n",
    "except FileExistsError:\n",
    "    pass\n",
    "\n",
    "s = pickle.dumps(cv)\n",
    "with open('models/cv_pickle', 'wb') as pickle_file:\n",
    "    pickle_file.write(s)"
   ]
  },
  {
   "cell_type": "markdown",
   "metadata": {},
   "source": [
    "### parameters tunning"
   ]
  },
  {
   "cell_type": "code",
   "execution_count": 16,
   "metadata": {},
   "outputs": [
    {
     "name": "stderr",
     "output_type": "stream",
     "text": [
      "/Users/erick/virtualenvs/NLP-IA_env/lib/python3.7/site-packages/sklearn/model_selection/_split.py:2026: FutureWarning: From version 0.21, test_size will always complement train_size unless both are specified.\n",
      "  FutureWarning)\n"
     ]
    }
   ],
   "source": [
    "from sklearn.linear_model import LogisticRegression\n",
    "from sklearn.metrics import accuracy_score\n",
    "from sklearn.model_selection import train_test_split\n",
    "\n",
    "X_train, X_val, y_train, y_val = train_test_split(\n",
    "    X, train_classes, train_size = 0.75\n",
    ")"
   ]
  },
  {
   "cell_type": "code",
   "execution_count": null,
   "metadata": {},
   "outputs": [],
   "source": [
    "for c in [0.001, 0.005, 0.009, 0.01, 0.015, 0.02, 1]:\n",
    "    \n",
    "    lr = LogisticRegression(C=c)\n",
    "    lr.fit(X_train, y_train)\n",
    "    print (\"Accuracy for C=%s: %s\" \n",
    "           % (c, accuracy_score(y_val, lr.predict(X_val))))\n",
    "    "
   ]
  },
  {
   "cell_type": "code",
   "execution_count": 17,
   "metadata": {},
   "outputs": [
    {
     "name": "stdout",
     "output_type": "stream",
     "text": [
      "Final Accuracy: 0.42052\n"
     ]
    }
   ],
   "source": [
    "final_model = LogisticRegression(C=0.009)\n",
    "final_model.fit(X, train_classes)\n",
    "print (\"Final Accuracy: %s\" \n",
    "       % accuracy_score(test_classes, final_model.predict(X_test)))"
   ]
  },
  {
   "cell_type": "code",
   "execution_count": null,
   "metadata": {},
   "outputs": [],
   "source": [
    "# try SVM\n",
    "from sklearn.svm import SVC\n",
    "svm_model = SVC()\n",
    "svm_model.fit(X, train_classes) \n",
    "\n",
    "# see the SVC parameters and try tunning them: http://scikit-learn.org/stable/modules/generated/sklearn.svm.SVC.html\n",
    "print (\"Final Accuracy SVM: %s\" \n",
    "       % accuracy_score(test_classes, svm_model.predict(X_test)))"
   ]
  },
  {
   "cell_type": "code",
   "execution_count": 18,
   "metadata": {},
   "outputs": [],
   "source": [
    "s = pickle.dumps(final_model)\n",
    "with open('models/final_model', 'wb') as pickle_file:\n",
    "    pickle_file.write(s)"
   ]
  },
  {
   "cell_type": "markdown",
   "metadata": {},
   "source": [
    "# evaluation"
   ]
  },
  {
   "cell_type": "code",
   "execution_count": 19,
   "metadata": {},
   "outputs": [
    {
     "name": "stdout",
     "output_type": "stream",
     "text": [
      "('worst', 0.803209580402335)\n",
      "('awful', 0.5351479745371935)\n",
      "('waste', 0.48234284846444075)\n",
      "('bad', 0.42465544907230046)\n",
      "('terrible', 0.41194351340390667)\n",
      "('best', -0.3889917433188075)\n",
      "('great', -0.3746348095832253)\n",
      "('excellent', -0.37156543140109943)\n",
      "('the', -0.28493251615376536)\n",
      "('and', -0.25938516915863147)\n"
     ]
    }
   ],
   "source": [
    "feature_to_coef = {\n",
    "    word: coef for word, coef in zip(\n",
    "        cv.get_feature_names(), final_model.coef_[0]\n",
    "    )\n",
    "}\n",
    "for best_positive in sorted(\n",
    "    feature_to_coef.items(), \n",
    "    key=lambda x: x[1], \n",
    "    reverse=True)[:5]:\n",
    "    print (best_positive)\n",
    "    \n",
    "#     ('excellent', 0.9288812418118644)\n",
    "#     ('perfect', 0.7934641227980576)\n",
    "#     ('great', 0.675040909917553)\n",
    "#     ('amazing', 0.6160398142631545)\n",
    "#     ('superb', 0.6063967799425831)\n",
    "    \n",
    "for best_negative in sorted(\n",
    "    feature_to_coef.items(), \n",
    "    key=lambda x: x[1])[:5]:\n",
    "    print (best_negative)\n",
    "    \n",
    "#     ('worst', -1.367978497228895)\n",
    "#     ('waste', -1.1684451288279047)\n",
    "#     ('awful', -1.0277001734353677)\n",
    "#     ('poorly', -0.8748317895742782)\n",
    "#     ('boring', -0.8587249740682945)"
   ]
  },
  {
   "cell_type": "markdown",
   "metadata": {},
   "source": [
    "# deploying\n",
    "install flask using ```pip3 install flask```. Let's create a REST service to make it available!\n",
    "The following code must be put in a python file ```app.py```. In the same directory of the previous file, run the commands bellow:\n",
    "\n",
    "```chmod +x app.py```\n",
    "\n",
    "```python3 app.py```"
   ]
  },
  {
   "cell_type": "code",
   "execution_count": 22,
   "metadata": {},
   "outputs": [
    {
     "data": {
      "text/plain": [
       "'10'"
      ]
     },
     "execution_count": 22,
     "metadata": {},
     "output_type": "execute_result"
    }
   ],
   "source": [
    "def prepare_input(review):\n",
    "    review = REPLACE_NO_SPACE.sub(\"\", review.lower())\n",
    "    review = REPLACE_WITH_SPACE.sub(\" \", review)\n",
    "\n",
    "    return cv.transform([review])\n",
    "r = \"best film ever!\"\n",
    "final_model.predict(prepare_input(r))[0]"
   ]
  },
  {
   "cell_type": "code",
   "execution_count": null,
   "metadata": {},
   "outputs": [],
   "source": [
    "from flask import Flask\n",
    "from sklearn.feature_extraction.text import CountVectorizer\n",
    "import re\n",
    "import pickle\n",
    "\n",
    "# regular expressions\n",
    "REPLACE_NO_SPACE = re.compile(\"(\\.)|(\\;)|(\\:)|(\\!)|(\\')|(\\?)|(\\,)|(\\\")|(\\()|(\\))|(\\[)|(\\])\")\n",
    "REPLACE_WITH_SPACE = re.compile(\"(<br\\s*/><br\\s*/>)|(\\-)|(\\/)\")\n",
    "\n",
    "# load vectorization model\n",
    "pickle_file = open('models/cv_pickle', 'rb')\n",
    "cv = pickle.loads(pickle_file.read())\n",
    "\n",
    "# load ML model\n",
    "pickle_file = open('models/final_model', 'rb')\n",
    "final_model = pickle.loads(pickle_file.read())\n",
    "\n",
    "\n",
    "# prepare input to be classified\n",
    "def prepare_input(review):\n",
    "    review = REPLACE_NO_SPACE.sub(\"\", review.lower())\n",
    "    review = REPLACE_WITH_SPACE.sub(\" \", review)\n",
    "\n",
    "    return cv.transform([review])\n",
    "\n",
    "\n",
    "app = Flask(__name__)\n",
    "\n",
    "@app.route('/api/v1.0/scorefy/str:review')\n",
    "def scorefy(review):\n",
    "    return final_model.predict(prepare_input(review))[0]\n",
    "\n",
    "\n",
    "if __name__ == '__main__':\n",
    "    app.run(host='0.0.0.0', port=3000, debug=True)\n"
   ]
  },
  {
   "cell_type": "code",
   "execution_count": null,
   "metadata": {},
   "outputs": [],
   "source": []
  }
 ],
 "metadata": {
  "kernelspec": {
   "display_name": "Python 3",
   "language": "python",
   "name": "python3"
  },
  "language_info": {
   "codemirror_mode": {
    "name": "ipython",
    "version": 3
   },
   "file_extension": ".py",
   "mimetype": "text/x-python",
   "name": "python",
   "nbconvert_exporter": "python",
   "pygments_lexer": "ipython3",
   "version": "3.7.0"
  }
 },
 "nbformat": 4,
 "nbformat_minor": 2
}
