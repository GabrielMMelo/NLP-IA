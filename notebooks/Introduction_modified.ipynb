{
 "cells": [
  {
   "cell_type": "markdown",
   "metadata": {},
   "source": [
    "# task definition\n",
    "Train a model to classify a movie rewiew in positive or negative polarity."
   ]
  },
  {
   "cell_type": "markdown",
   "metadata": {},
   "source": [
    "# data collection\n",
    "dataset of IMDb, available at: http://ai.stanford.edu/~amaas/data/sentiment/aclImdb_v1.tar.gz\n",
    "\n",
    "it uses 'wget' python module. Use ```pip install wget``` to install it!\n"
   ]
  },
  {
   "cell_type": "code",
   "execution_count": 18,
   "metadata": {},
   "outputs": [],
   "source": [
    "import wget\n",
    "import os\n",
    "import tarfile\n",
    "import numpy\n",
    "\n",
    "numpy.random.seed(42)\n",
    "\n",
    "filename = \"dataset/aclImdb_v1.tar.gz\"\n",
    "\n",
    "dataset_link = \"http://ai.stanford.edu/~amaas/data/sentiment/{}\".format(\"aclImdb_v1.tar.gz\")\n",
    "try:\n",
    "    os.mkdir(\"dataset\")\n",
    "except OSError:\n",
    "    pass\n",
    "\n",
    "if not os.path.isfile(filename):\n",
    "    file = wget.download(dataset_link, out='dataset/aclImdb_v1.tar.gz')\n",
    "\n",
    "    tar = tarfile.open(filename, \"r:gz\")\n",
    "    tar.extractall(\"dataset\")\n",
    "    tar.close()"
   ]
  },
  {
   "cell_type": "markdown",
   "metadata": {},
   "source": [
    "# data load and visualization"
   ]
  },
  {
   "cell_type": "code",
   "execution_count": 19,
   "metadata": {},
   "outputs": [],
   "source": [
    "# montar dataset com valores de 1 a 4 e de 7 a 10, ao invés de binário\n",
    "dataset_path = 'dataset/aclImdb'\n",
    "train_positive_files = ['train/pos/'+f for f in os.listdir(dataset_path+'/train/pos') \\\n",
    "                        if os.path.isfile(os.path.join(dataset_path+'/train/pos', f))]\n",
    "\n",
    "train_negative_files = ['train/neg/'+f for f in os.listdir(dataset_path+'/train/neg') \\\n",
    "                        if os.path.isfile(os.path.join(dataset_path+'/train/neg', f))]\n",
    "\n",
    "test_positive_files = ['test/pos/'+f for f in os.listdir(dataset_path+'/test/pos') \\\n",
    "                       if os.path.isfile(os.path.join(dataset_path+'/test/pos', f))]\n",
    "\n",
    "test_negative_files = ['test/neg/'+f for f in os.listdir(dataset_path+'/test/neg') \\\n",
    "                       if os.path.isfile(os.path.join(dataset_path+'/test/neg', f))]\n",
    "\n",
    "all_files = list(set().union(train_positive_files,train_negative_files, test_positive_files, test_negative_files))"
   ]
  },
  {
   "cell_type": "code",
   "execution_count": 20,
   "metadata": {},
   "outputs": [],
   "source": [
    "dataset = {'trainset':[], \n",
    "           'polarity':[], \n",
    "           'bin_polarity': [],\n",
    "           'review':[]}\n",
    "\n",
    "for file in all_files:\n",
    "    polarity = file.split('.')[0].split('_')[1]\n",
    "    with open(os.path.join(dataset_path, file), 'r') as text_file:\n",
    "        dataset['trainset'].append(file.split('/')[0])\n",
    "        bin_polarity = 1 if int(polarity) > 5 else 0  # transform into binary polarity\n",
    "        dataset['bin_polarity'].append(bin_polarity)\n",
    "        dataset['polarity'].append(polarity)\n",
    "        dataset['review'].append(text_file.readlines()[0])"
   ]
  },
  {
   "cell_type": "code",
   "execution_count": 21,
   "metadata": {},
   "outputs": [],
   "source": [
    "import pandas as pd\n",
    "dataframe = pd.DataFrame(data=dataset)"
   ]
  },
  {
   "cell_type": "code",
   "execution_count": 22,
   "metadata": {},
   "outputs": [
    {
     "data": {
      "text/html": [
       "<div>\n",
       "<style scoped>\n",
       "    .dataframe tbody tr th:only-of-type {\n",
       "        vertical-align: middle;\n",
       "    }\n",
       "\n",
       "    .dataframe tbody tr th {\n",
       "        vertical-align: top;\n",
       "    }\n",
       "\n",
       "    .dataframe thead th {\n",
       "        text-align: right;\n",
       "    }\n",
       "</style>\n",
       "<table border=\"1\" class=\"dataframe\">\n",
       "  <thead>\n",
       "    <tr style=\"text-align: right;\">\n",
       "      <th></th>\n",
       "      <th>trainset</th>\n",
       "      <th>polarity</th>\n",
       "      <th>bin_polarity</th>\n",
       "      <th>review</th>\n",
       "    </tr>\n",
       "  </thead>\n",
       "  <tbody>\n",
       "    <tr>\n",
       "      <th>0</th>\n",
       "      <td>test</td>\n",
       "      <td>7</td>\n",
       "      <td>1</td>\n",
       "      <td>Reasonably effective horror/science-fiction a ...</td>\n",
       "    </tr>\n",
       "    <tr>\n",
       "      <th>1</th>\n",
       "      <td>train</td>\n",
       "      <td>8</td>\n",
       "      <td>1</td>\n",
       "      <td>This cartoon is short on plot, but is a visual...</td>\n",
       "    </tr>\n",
       "    <tr>\n",
       "      <th>2</th>\n",
       "      <td>test</td>\n",
       "      <td>4</td>\n",
       "      <td>0</td>\n",
       "      <td>Okay, you have:&lt;br /&gt;&lt;br /&gt;Penelope Keith as M...</td>\n",
       "    </tr>\n",
       "    <tr>\n",
       "      <th>3</th>\n",
       "      <td>train</td>\n",
       "      <td>3</td>\n",
       "      <td>0</td>\n",
       "      <td>In the third entry of the Phantasm series, Mik...</td>\n",
       "    </tr>\n",
       "    <tr>\n",
       "      <th>4</th>\n",
       "      <td>train</td>\n",
       "      <td>3</td>\n",
       "      <td>0</td>\n",
       "      <td>Where to start? OK, don't compare this film to...</td>\n",
       "    </tr>\n",
       "  </tbody>\n",
       "</table>\n",
       "</div>"
      ],
      "text/plain": [
       "  trainset polarity  bin_polarity  \\\n",
       "0     test        7             1   \n",
       "1    train        8             1   \n",
       "2     test        4             0   \n",
       "3    train        3             0   \n",
       "4    train        3             0   \n",
       "\n",
       "                                              review  \n",
       "0  Reasonably effective horror/science-fiction a ...  \n",
       "1  This cartoon is short on plot, but is a visual...  \n",
       "2  Okay, you have:<br /><br />Penelope Keith as M...  \n",
       "3  In the third entry of the Phantasm series, Mik...  \n",
       "4  Where to start? OK, don't compare this film to...  "
      ]
     },
     "execution_count": 22,
     "metadata": {},
     "output_type": "execute_result"
    }
   ],
   "source": [
    "dataframe.head()"
   ]
  },
  {
   "cell_type": "code",
   "execution_count": 23,
   "metadata": {},
   "outputs": [
    {
     "data": {
      "image/png": "[encoded data removed]",
      "text/plain": [
       "<Figure size 432x288 with 1 Axes>"
      ]
     },
     "metadata": {
      "needs_background": "light"
     },
     "output_type": "display_data"
    },
    {
     "data": {
      "image/png": "[encoded data removed]",
      "text/plain": [
       "<Figure size 432x288 with 1 Axes>"
      ]
     },
     "metadata": {
      "needs_background": "light"
     },
     "output_type": "display_data"
    },
    {
     "data": {
      "image/png": "[encoded data removed]",
      "text/plain": [
       "<Figure size 432x288 with 1 Axes>"
      ]
     },
     "metadata": {
      "needs_background": "light"
     },
     "output_type": "display_data"
    }
   ],
   "source": [
    "import matplotlib.pyplot as plt\n",
    "\n",
    "dataframe['trainset'].value_counts().plot(kind='bar',title='Trainsets')\n",
    "plt.show()\n",
    "\n",
    "dataframe['polarity'].value_counts().plot(kind='bar',title='Polarities')\n",
    "plt.show()\n",
    "\n",
    "dataframe['bin_polarity'].value_counts().plot(kind='bar',title='Polarities binary')\n",
    "plt.show()"
   ]
  },
  {
   "cell_type": "markdown",
   "metadata": {},
   "source": [
    "# pre processing"
   ]
  },
  {
   "cell_type": "code",
   "execution_count": 24,
   "metadata": {},
   "outputs": [],
   "source": [
    "import re\n",
    "\n",
    "REPLACE_NO_SPACE = re.compile(\"(\\.)|(\\;)|(\\:)|(\\!)|(\\')|(\\?)|(\\,)|(\\\")|(\\()|(\\))|(\\[)|(\\])\")\n",
    "REPLACE_WITH_SPACE = re.compile(\"(<br\\s*/><br\\s*/>)|(\\-)|(\\/)\")\n",
    "\n",
    "def preprocess_reviews(review):\n",
    "    review = REPLACE_NO_SPACE.sub(\"\", review.lower())\n",
    "    review = REPLACE_WITH_SPACE.sub(\" \", review)\n",
    "    \n",
    "    return review\n",
    "\n",
    "dataframe['clean_review'] = dataframe['review'].apply(preprocess_reviews)"
   ]
  },
  {
   "cell_type": "code",
   "execution_count": 25,
   "metadata": {},
   "outputs": [
    {
     "data": {
      "text/html": [
       "<div>\n",
       "<style scoped>\n",
       "    .dataframe tbody tr th:only-of-type {\n",
       "        vertical-align: middle;\n",
       "    }\n",
       "\n",
       "    .dataframe tbody tr th {\n",
       "        vertical-align: top;\n",
       "    }\n",
       "\n",
       "    .dataframe thead th {\n",
       "        text-align: right;\n",
       "    }\n",
       "</style>\n",
       "<table border=\"1\" class=\"dataframe\">\n",
       "  <thead>\n",
       "    <tr style=\"text-align: right;\">\n",
       "      <th></th>\n",
       "      <th>trainset</th>\n",
       "      <th>polarity</th>\n",
       "      <th>bin_polarity</th>\n",
       "      <th>review</th>\n",
       "      <th>clean_review</th>\n",
       "    </tr>\n",
       "  </thead>\n",
       "  <tbody>\n",
       "    <tr>\n",
       "      <th>0</th>\n",
       "      <td>test</td>\n",
       "      <td>7</td>\n",
       "      <td>1</td>\n",
       "      <td>Reasonably effective horror/science-fiction a ...</td>\n",
       "      <td>reasonably effective horror science fiction a ...</td>\n",
       "    </tr>\n",
       "    <tr>\n",
       "      <th>1</th>\n",
       "      <td>train</td>\n",
       "      <td>8</td>\n",
       "      <td>1</td>\n",
       "      <td>This cartoon is short on plot, but is a visual...</td>\n",
       "      <td>this cartoon is short on plot but is a visuall...</td>\n",
       "    </tr>\n",
       "    <tr>\n",
       "      <th>2</th>\n",
       "      <td>test</td>\n",
       "      <td>4</td>\n",
       "      <td>0</td>\n",
       "      <td>Okay, you have:&lt;br /&gt;&lt;br /&gt;Penelope Keith as M...</td>\n",
       "      <td>okay you have penelope keith as miss herringbo...</td>\n",
       "    </tr>\n",
       "    <tr>\n",
       "      <th>3</th>\n",
       "      <td>train</td>\n",
       "      <td>3</td>\n",
       "      <td>0</td>\n",
       "      <td>In the third entry of the Phantasm series, Mik...</td>\n",
       "      <td>in the third entry of the phantasm series mike...</td>\n",
       "    </tr>\n",
       "    <tr>\n",
       "      <th>4</th>\n",
       "      <td>train</td>\n",
       "      <td>3</td>\n",
       "      <td>0</td>\n",
       "      <td>Where to start? OK, don't compare this film to...</td>\n",
       "      <td>where to start ok dont compare this film to fi...</td>\n",
       "    </tr>\n",
       "  </tbody>\n",
       "</table>\n",
       "</div>"
      ],
      "text/plain": [
       "  trainset polarity  bin_polarity  \\\n",
       "0     test        7             1   \n",
       "1    train        8             1   \n",
       "2     test        4             0   \n",
       "3    train        3             0   \n",
       "4    train        3             0   \n",
       "\n",
       "                                              review  \\\n",
       "0  Reasonably effective horror/science-fiction a ...   \n",
       "1  This cartoon is short on plot, but is a visual...   \n",
       "2  Okay, you have:<br /><br />Penelope Keith as M...   \n",
       "3  In the third entry of the Phantasm series, Mik...   \n",
       "4  Where to start? OK, don't compare this film to...   \n",
       "\n",
       "                                        clean_review  \n",
       "0  reasonably effective horror science fiction a ...  \n",
       "1  this cartoon is short on plot but is a visuall...  \n",
       "2  okay you have penelope keith as miss herringbo...  \n",
       "3  in the third entry of the phantasm series mike...  \n",
       "4  where to start ok dont compare this film to fi...  "
      ]
     },
     "execution_count": 25,
     "metadata": {},
     "output_type": "execute_result"
    }
   ],
   "source": [
    "dataframe.head()"
   ]
  },
  {
   "cell_type": "markdown",
   "metadata": {},
   "source": [
    "# feature engineering"
   ]
  },
  {
   "cell_type": "code",
   "execution_count": 26,
   "metadata": {},
   "outputs": [],
   "source": [
    "train_reviews = dataframe[dataframe['trainset'] == 'train']['clean_review'].values.tolist()\n",
    "train_classes = dataframe[dataframe['trainset'] == 'train']['bin_polarity'].values.tolist()\n",
    "test_reviews = dataframe[dataframe['trainset'] == 'test']['clean_review'].values.tolist()\n",
    "test_classes = dataframe[dataframe['trainset'] == 'test']['bin_polarity'].values.tolist()"
   ]
  },
  {
   "cell_type": "code",
   "execution_count": 27,
   "metadata": {},
   "outputs": [],
   "source": [
    "from sklearn.feature_extraction.text import CountVectorizer\n",
    "import pickle\n",
    "\n",
    "cv = CountVectorizer(binary=True)\n",
    "cv.fit(train_reviews)\n",
    "X = cv.transform(train_reviews)\n",
    "X_test = cv.transform(test_reviews)"
   ]
  },
  {
   "cell_type": "code",
   "execution_count": 28,
   "metadata": {},
   "outputs": [],
   "source": [
    "#save cv model\n",
    "try:\n",
    "    os.mkdir(\"models\")\n",
    "except OSError:\n",
    "    pass\n",
    "\n",
    "s = pickle.dumps(cv)\n",
    "with open('models/cv_pickle', 'wb') as pickle_file:\n",
    "    pickle_file.write(s)"
   ]
  },
  {
   "cell_type": "markdown",
   "metadata": {},
   "source": [
    "# Training"
   ]
  },
  {
   "cell_type": "code",
   "execution_count": 29,
   "metadata": {},
   "outputs": [],
   "source": [
    "from sklearn.linear_model import LogisticRegression\n",
    "from sklearn.metrics import accuracy_score\n",
    "from sklearn.model_selection import train_test_split\n",
    "\n",
    "X_train, X_val, y_train, y_val = train_test_split(\n",
    "    X, train_classes, train_size = 0.75\n",
    ")"
   ]
  },
  {
   "cell_type": "code",
   "execution_count": 30,
   "metadata": {},
   "outputs": [
    {
     "name": "stdout",
     "output_type": "stream",
     "text": [
      "Accuracy for C=0.001: 0.84272\n",
      "Accuracy for C=0.005: 0.86432\n",
      "Accuracy for C=0.009: 0.87088\n",
      "Accuracy for C=0.01: 0.87168\n",
      "Accuracy for C=0.015: 0.87584\n",
      "Accuracy for C=0.02: 0.87616\n",
      "Accuracy for C=1: 0.87472\n"
     ]
    }
   ],
   "source": [
    "for c in [0.001, 0.005, 0.009, 0.01, 0.015, 0.02, 1]:\n",
    "    \n",
    "    lr = LogisticRegression(C=c)\n",
    "    lr.fit(X_train, y_train)\n",
    "    print (\"Accuracy for C=%s: %s\" \n",
    "           % (c, accuracy_score(y_val, lr.predict(X_val))))\n",
    "    "
   ]
  },
  {
   "cell_type": "code",
   "execution_count": 31,
   "metadata": {},
   "outputs": [
    {
     "name": "stdout",
     "output_type": "stream",
     "text": [
      "Final Accuracy: 0.88116\n"
     ]
    }
   ],
   "source": [
    "final_model = LogisticRegression(C=0.02)\n",
    "final_model.fit(X, train_classes)\n",
    "print (\"Final Accuracy: %s\" \n",
    "       % accuracy_score(test_classes, final_model.predict(X_test)))"
   ]
  },
  {
   "cell_type": "code",
   "execution_count": 32,
   "metadata": {},
   "outputs": [],
   "source": [
    "s = pickle.dumps(final_model)\n",
    "with open('models/final_model', 'wb') as pickle_file:\n",
    "    pickle_file.write(s)"
   ]
  },
  {
   "cell_type": "markdown",
   "metadata": {},
   "source": [
    "# evaluation"
   ]
  },
  {
   "cell_type": "code",
   "execution_count": 33,
   "metadata": {},
   "outputs": [
    {
     "name": "stdout",
     "output_type": "stream",
     "text": [
      "('excellent', 0.7700114234286476)\n",
      "('perfect', 0.643803750600919)\n",
      "('great', 0.6257844426344494)\n",
      "('amazing', 0.5128833135754599)\n",
      "('wonderful', 0.5041675571876316)\n",
      "('worst', -1.1322335000066437)\n",
      "('waste', -0.8909313898755431)\n",
      "('awful', -0.8264980442866634)\n",
      "('boring', -0.6949303901440904)\n",
      "('bad', -0.6472233520501927)\n"
     ]
    }
   ],
   "source": [
    "feature_to_coef = {\n",
    "    word: coef for word, coef in zip(\n",
    "        cv.get_feature_names(), final_model.coef_[0]\n",
    "    )\n",
    "}\n",
    "for best_positive in sorted(\n",
    "    feature_to_coef.items(), \n",
    "    key=lambda x: x[1], \n",
    "    reverse=True)[:5]:\n",
    "    print (best_positive)\n",
    "        \n",
    "for best_negative in sorted(\n",
    "    feature_to_coef.items(), \n",
    "    key=lambda x: x[1])[:5]:\n",
    "    print (best_negative)"
   ]
  },
  {
   "cell_type": "markdown",
   "metadata": {},
   "source": [
    "# deploying\n",
    "install flask using ```pip3 install flask```. Let's create a REST service to make it available!\n",
    "The following code must be put in a python file ```app.py```. \n",
    "\n",
    "In the same directory of the previous file, run the commands bellow:\n",
    "\n",
    "```chmod a+x app.py```\n",
    "\n",
    "```python3 app.py```"
   ]
  },
  {
   "cell_type": "code",
   "execution_count": null,
   "metadata": {},
   "outputs": [],
   "source": [
    "from flask import Flask, request\n",
    "from sklearn.feature_extraction.text import CountVectorizer\n",
    "import re\n",
    "import pickle\n",
    "\n",
    "# regular expressions\n",
    "REPLACE_NO_SPACE = re.compile(\"(\\.)|(\\;)|(\\:)|(\\!)|(\\')|(\\?)|(\\,)|(\\\")|(\\()|(\\))|(\\[)|(\\])\")\n",
    "REPLACE_WITH_SPACE = re.compile(\"(<br\\s*/><br\\s*/>)|(\\-)|(\\/)\")\n",
    "\n",
    "# load vectorization model\n",
    "pickle_file = open('models/cv_pickle', 'rb')\n",
    "cv = pickle.loads(pickle_file.read())\n",
    "\n",
    "# load ML model\n",
    "pickle_file = open('models/final_model', 'rb')\n",
    "final_model = pickle.loads(pickle_file.read())\n",
    "\n",
    "\n",
    "# prepare input to be classified\n",
    "def prepare_input(review):\n",
    "    review = REPLACE_NO_SPACE.sub(\"\", review.lower())\n",
    "    review = REPLACE_WITH_SPACE.sub(\" \", review)\n",
    "\n",
    "    return cv.transform([review])\n",
    "\n",
    "\n",
    "app = Flask(__name__)\n",
    "\n",
    "@app.route('/api/v1.0/scorefy', methods=[\"GET\"])\n",
    "def scorefy():\n",
    "    query_parameters = request.args\n",
    "    review = query_parameters.get('r')\n",
    "    return final_model.predict(prepare_input(review))[0]\n",
    "\n",
    "\n",
    "if __name__ == '__main__':\n",
    "    app.run(host='0.0.0.0', port=3000, debug=True)\n"
   ]
  },
  {
   "cell_type": "code",
   "execution_count": null,
   "metadata": {},
   "outputs": [],
   "source": []
  }
 ],
 "metadata": {
  "kernelspec": {
   "display_name": "Python 3",
   "language": "python",
   "name": "python3"
  },
  "language_info": {
   "codemirror_mode": {
    "name": "ipython",
    "version": 3
   },
   "file_extension": ".py",
   "mimetype": "text/x-python",
   "name": "python",
   "nbconvert_exporter": "python",
   "pygments_lexer": "ipython3",
   "version": "3.7.0"
  }
 },
 "nbformat": 4,
 "nbformat_minor": 2
}
